{
 "cells": [
  {
   "cell_type": "code",
   "execution_count": 15,
   "id": "a3bf7fa4-bdf8-499c-ac8f-8b6b98470227",
   "metadata": {},
   "outputs": [
    {
     "name": "stdout",
     "output_type": "stream",
     "text": [
      "Requirement already satisfied: opencv-python in c:\\users\\user\\anaconda3\\lib\\site-packages (4.11.0.86)\n",
      "Requirement already satisfied: numpy>=1.21.2 in c:\\users\\user\\anaconda3\\lib\\site-packages (from opencv-python) (1.26.4)\n"
     ]
    }
   ],
   "source": [
    "\n",
    "\n",
    "!pip install opencv-python\n",
    "\n",
    "\n"
   ]
  },
  {
   "cell_type": "code",
   "execution_count": 16,
   "id": "276500a6-eda6-4519-8b35-a322a90a2383",
   "metadata": {},
   "outputs": [],
   "source": [
    "import pdfplumber\n",
    "import os\n",
    "from pdf2image import convert_from_path\n",
    "import pytesseract\n",
    "import cv2\n",
    "import numpy as np\n",
    "from PIL import Image\n"
   ]
  },
  {
   "cell_type": "code",
   "execution_count": 22,
   "id": "852eec20-0b2b-46d7-a9be-6d800820fdde",
   "metadata": {},
   "outputs": [
    {
     "name": "stdout",
     "output_type": "stream",
     "text": [
      "📄 Traitement page 1\n",
      "🧾 Résultat OCR page 1 :\n",
      "IMM A16 Centre Urbain Nord 1003 Tunis\n",
      "1003 CITE EL KHADRA\n",
      "N° téléphone 71 822 435\n",
      "\n",
      "N°télécopie 71 822 742\n",
      "\n",
      "SARL Au capital social de 1.270.000 DT\n",
      "\n",
      "N° VF 23/0683\n",
      "N° doc. Ext.\n",
      "\n",
      "Nom Client: BIWARE\n",
      "\n",
      "Adresse: — RUE DU LAC HURON\n",
      "\n",
      "Commande Clien\n",
      "Code Client CSC28006\n",
      "N° BC: RC:\n",
      "\n",
      "Mat. Fiscal: 1179844/F/A/M/0\n",
      "✅ OCR terminé. Résultat sauvegardé dans 'facture_ocr_result.txt'\n"
     ]
    }
   ],
   "source": [
    "# 📁 Chemins à adapter\n",
    "pdf_path = r\"C:\\Users\\User\\OneDrive - Université Centrale\\Bureau\\facture\\ScoopFacture_N_VF230683_18-04-2023.pdf\"\n",
    "poppler_path = r\"C:\\poppler-24.08.0\\Library\\bin\"\n",
    "pytesseract.pytesseract.tesseract_cmd = r\"C:\\Program Files\\Tesseract-OCR\\tesseract.exe\"\n",
    "\n",
    "# 🔄 Convertir le PDF en pages images (PIL)\n",
    "pages = convert_from_path(pdf_path, dpi=300, poppler_path=poppler_path)\n",
    "\n",
    "# 🔍 OCR de chaque page avec filtre Otsu\n",
    "full_text = \"\"\n",
    "for i, page in enumerate(pages):\n",
    "    print(f\"📄 Traitement page {i+1}\")\n",
    "\n",
    "    # Convertir PIL → OpenCV (en niveaux de gris)\n",
    "    gray = np.array(page.convert('L'))\n",
    "\n",
    "    # 🧠 Filtrage Otsu (binarisation automatique)\n",
    "    _, binary = cv2.threshold(gray, 0, 255, cv2.THRESH_BINARY + cv2.THRESH_OTSU)\n",
    "\n",
    "    # OCR sur image binaire\n",
    "    processed_image = Image.fromarray(binary)\n",
    "    text = pytesseract.image_to_string(processed_image, lang='fra')\n",
    "    \n",
    "    print(f\"🧾 Résultat OCR page {i+1} :\\n{text[:300]}\")\n",
    "    full_text += f\"\\n\\n===== Page {i+1} =====\\n{text}\"\n",
    "\n",
    "# (optionnel) Sauvegarder le texte complet dans un fichier texte\n",
    "with open(\"facture_ocr_result.txt\", \"w\", encoding=\"utf-8\") as f:\n",
    "    f.write(full_text)\n",
    "\n",
    "print(\"✅ OCR terminé. Résultat sauvegardé dans 'facture_ocr_result.txt'\")"
   ]
  },
  {
   "cell_type": "code",
   "execution_count": 23,
   "id": "d58ac914-73d9-490a-b25a-f59918891e14",
   "metadata": {},
   "outputs": [
    {
     "data": {
      "text/plain": [
       "'IMM A16 Centre Urbain Nord 1003 Tunis\\n1003 CITE EL KHADRA\\nN° téléphone 71 822 435\\n\\nN°télécopie 71 822 742\\n\\nSARL Au capital social de 1.270.000 DT\\n\\nN° VF 23/0683\\nN° doc. Ext.\\n\\nNom Client: BIWARE\\n\\nAdresse: — RUE DU LAC HURON\\n\\nCommande Clien\\nCode Client CSC28006\\nN° BC: RC:\\n\\nMat. Fiscal: 1179844/F/A/M/000\\n\\nPaiement :\\n\\nDate 18. avril 2023\\n\\nFACTURE/ BON DE LIVRAISON\\n\\n| Réf£ — [ Désignaton _ | ue | PricUnit [Rem.] Montant | Tva ]\\n\\nMIC-S765 ADVANCE CASQUE MICRO PC\\n\\nCLS-7100RF ADVANCE ELITE COMBO PACK CLAV+SOUR+TAPIS\\n\\nCZ102AE Cartouche HP COULEUR N°650 pour 2515-1050\\n200 pages\\n\\n151559 Converstisseur HDMI male TO VGA female with audio\\n\\n90LM054S-B013 [ASUS ECRAN VA24DQ BK/5MS/EU/DSUB+HDMI+DP+\\nSN:N6LMQS132036**GARANTIE 1AN**\\nSN:N6LMQS132051**GARANTIE 1AN**\\nSN:N6LMQS132041**GARANTIE 1AN**\\n\\nLa présentation de cette facture est obligatoire pour tout échange ou\\nréparation sous garantie\\n\\nLa g. \"ntie couvre uniquement les défauts de fabrication Hardware.\\nToute panne Software ou réinstallation système feront l\\'objet d\\'une\\nréparation facturable.\\n\\nMontant TVA\\n270,588 51,412\\n1595,327 111,673\\n\\nPoints Fidélité\\n\\nSolde antérieur 0,008\\nConsommation facture 0,000\\nRajout facture 0,000\\nSolde à nouveau 0,000\\n\\nArrêtée la présente facture à la somme de\\nDeux Mille Trente Dinars\\n\\nTotai H. Taxes TND 1 865,915\\n0,000\\nTotal TVA 163,085\\n\\nTimbre Fiscal | __ 11000\\n2 030,000\\n\\nMontant\\nAcompte\\nMontant payé\\nMontant rendu\\nSolde\\n\\n135,000| 19 %\\n240,000! 7 %\\n\\n132,000} 19 %\\n\\n2 030,000\\n0,000\\n0,000\\n0,000\\n\\n2 030,000\\n\\nJ\\'accepie par la présente de recevoir des SMS publicitaires de la part de l\\'enseigne dans le cadre de ses opérations promotionnelles.\\n\\n—A rr\\nScoop Informatique enseigne commerciale de Retail Market Concept- SARL au capital de 70 000 Dinars.Im A16 Centre urbain nord 1004 Tunis\\n\\nR.C : 0887498S Code T.V.A. : 887498 S A M 000 Banque : ATB Charguia\\n\\nN° Compte : 01013054110300246686\\n'"
      ]
     },
     "execution_count": 23,
     "metadata": {},
     "output_type": "execute_result"
    }
   ],
   "source": [
    "text"
   ]
  },
  {
   "cell_type": "code",
   "execution_count": 24,
   "id": "b8d5075a-c1ce-473d-bea4-6ade04a5b23c",
   "metadata": {
    "collapsed": true,
    "jupyter": {
     "outputs_hidden": true
    }
   },
   "outputs": [
    {
     "name": "stdout",
     "output_type": "stream",
     "text": [
      "IMM A16 Centre Urbain Nord 1003 Tunis\n",
      "1003 CITE EL KHADRA\n",
      "N° téléphone 71 822 435\n",
      "\n",
      "N°télécopie 71 822 742\n",
      "\n",
      "SARL Au capital social de 1.270.000 DT\n",
      "\n",
      "N° VF 23/0683\n",
      "N° doc. Ext.\n",
      "\n",
      "Nom Client: BIWARE\n",
      "\n",
      "Adresse: — RUE DU LAC HURON\n",
      "\n",
      "Commande Clien\n",
      "Code Client CSC28006\n",
      "N° BC: RC:\n",
      "\n",
      "Mat. Fiscal: 1179844/F/A/M/000\n",
      "\n",
      "Paiement :\n",
      "\n",
      "Date 18. avril 2023\n",
      "\n",
      "FACTURE/ BON DE LIVRAISON\n",
      "\n",
      "| Réf£ — [ Désignaton _ | ue | PricUnit [Rem.] Montant | Tva ]\n",
      "\n",
      "MIC-S765 ADVANCE CASQUE MICRO PC\n",
      "\n",
      "CLS-7100RF ADVANCE ELITE COMBO PACK CLAV+SOUR+TAPIS\n",
      "\n",
      "CZ102AE Cartouche HP COULEUR N°650 pour 2515-1050\n",
      "200 pages\n",
      "\n",
      "151559 Converstisseur HDMI male TO VGA female with audio\n",
      "\n",
      "90LM054S-B013 [ASUS ECRAN VA24DQ BK/5MS/EU/DSUB+HDMI+DP+\n",
      "SN:N6LMQS132036**GARANTIE 1AN**\n",
      "SN:N6LMQS132051**GARANTIE 1AN**\n",
      "SN:N6LMQS132041**GARANTIE 1AN**\n",
      "\n",
      "La présentation de cette facture est obligatoire pour tout échange ou\n",
      "réparation sous garantie\n",
      "\n",
      "La g. \"ntie couvre uniquement les défauts de fabrication Hardware.\n",
      "Toute panne Software ou réinstallation système feront l'objet d'une\n",
      "réparation facturable.\n",
      "\n",
      "Montant TVA\n",
      "270,588 51,412\n",
      "1595,327 111,673\n",
      "\n",
      "Points Fidélité\n",
      "\n",
      "Solde antérieur 0,008\n",
      "Consommation facture 0,000\n",
      "Rajout facture 0,000\n",
      "Solde à nouveau 0,000\n",
      "\n",
      "Arrêtée la présente facture à la somme de\n",
      "Deux Mille Trente Dinars\n",
      "\n",
      "Totai H. Taxes TND 1 865,915\n",
      "0,000\n",
      "Total TVA 163,085\n",
      "\n",
      "Timbre Fiscal | __ 11000\n",
      "2 030,000\n",
      "\n",
      "Montant\n",
      "Acompte\n",
      "Montant payé\n",
      "Montant rendu\n",
      "Solde\n",
      "\n",
      "135,000| 19 %\n",
      "240,000! 7 %\n",
      "\n",
      "132,000} 19 %\n",
      "\n",
      "2 030,000\n",
      "0,000\n",
      "0,000\n",
      "0,000\n",
      "\n",
      "2 030,000\n",
      "\n",
      "J'accepie par la présente de recevoir des SMS publicitaires de la part de l'enseigne dans le cadre de ses opérations promotionnelles.\n",
      "\n",
      "—A rr\n",
      "Scoop Informatique enseigne commerciale de Retail Market Concept- SARL au capital de 70 000 Dinars.Im A16 Centre urbain nord 1004 Tunis\n",
      "\n",
      "R.C : 0887498S Code T.V.A. : 887498 S A M 000 Banque : ATB Charguia\n",
      "\n",
      "N° Compte : 01013054110300246686\n",
      "\n"
     ]
    }
   ],
   "source": [
    "for line in text.split(\"\\n\"):\n",
    "    print(line)"
   ]
  },
  {
   "cell_type": "code",
   "execution_count": 25,
   "id": "7e5a2115-7753-46ed-b8ec-22ae0fe40ba2",
   "metadata": {
    "collapsed": true,
    "jupyter": {
     "outputs_hidden": true,
     "source_hidden": true
    },
    "scrolled": true
   },
   "outputs": [
    {
     "name": "stdout",
     "output_type": "stream",
     "text": [
      "📄 Traitement page 1\n",
      "🧾 Résultat OCR page 1 :\n",
      "d É CT -.,.. 1003 CITE EL KHADRA\n",
      "F\n",
      "\n",
      "E N° téléphone 71750850\n",
      "N° télécopie 71766545\n",
      "\n",
      "& ; - IMM A16 Centre Urbain Nord 1003 Tunis\n",
      "\n",
      "SARL Au capital social de 1.270.000 DT FACTURE/ BON DE LIVRAISON\n",
      "\n",
      "N° VF 23/0805 Nom Client: BIWARE\n",
      "Adresse: — RUE DU LAC HURON\n",
      "\n",
      "N° doc. Ext.\n",
      "\n",
      "Commande Clien\n",
      "\n",
      "Code Client CS\n",
      "✅ OCR terminé. Résultat sauvegardé dans 'facture_ocr_result.txt'\n"
     ]
    }
   ],
   "source": [
    "# 📁 Chemins à adapter\n",
    "pdf_path = r\"C:\\Users\\User\\OneDrive - Université Centrale\\Bureau\\facture\\ScoopFacture_N_VF230805_16-05-2023.pdf\"\n",
    "poppler_path = r\"C:\\poppler-24.08.0\\Library\\bin\"\n",
    "pytesseract.pytesseract.tesseract_cmd = r\"C:\\Program Files\\Tesseract-OCR\\tesseract.exe\"\n",
    "\n",
    "# 🔄 Convertir le PDF en pages images (PIL)\n",
    "pages = convert_from_path(pdf_path, dpi=300, poppler_path=poppler_path)\n",
    "\n",
    "# 🔍 OCR de chaque page avec filtre Otsu\n",
    "full_text = \"\"\n",
    "for i, page in enumerate(pages):\n",
    "    print(f\"📄 Traitement page {i+1}\")\n",
    "\n",
    "    # Convertir PIL → OpenCV (en niveaux de gris)\n",
    "    gray = np.array(page.convert('L'))\n",
    "\n",
    "    # 🧠 Filtrage Otsu (binarisation automatique)\n",
    "    _, binary = cv2.threshold(gray, 0, 255, cv2.THRESH_BINARY + cv2.THRESH_OTSU)\n",
    "\n",
    "    # OCR sur image binaire\n",
    "    processed_image = Image.fromarray(binary)\n",
    "    text = pytesseract.image_to_string(processed_image, lang='fra')\n",
    "    \n",
    "    print(f\"🧾 Résultat OCR page {i+1} :\\n{text[:300]}\")\n",
    "    full_text += f\"\\n\\n===== Page {i+1} =====\\n{text}\"\n",
    "\n",
    "# (optionnel) Sauvegarder le texte complet dans un fichier texte\n",
    "with open(\"facture_ocr_result.txt\", \"w\", encoding=\"utf-8\") as f:\n",
    "    f.write(full_text)\n",
    "\n",
    "print(\"✅ OCR terminé. Résultat sauvegardé dans 'facture_ocr_result.txt'\")"
   ]
  },
  {
   "cell_type": "code",
   "execution_count": 26,
   "id": "aefd2ee6-a4dd-4f77-8cd9-c89de75d6bf1",
   "metadata": {
    "collapsed": true,
    "jupyter": {
     "outputs_hidden": true,
     "source_hidden": true
    },
    "scrolled": true
   },
   "outputs": [
    {
     "data": {
      "text/plain": [
       "\"d É CT -.,.. 1003 CITE EL KHADRA\\nF\\n\\nE N° téléphone 71750850\\nN° télécopie 71766545\\n\\n& ; - IMM A16 Centre Urbain Nord 1003 Tunis\\n\\nSARL Au capital social de 1.270.000 DT FACTURE/ BON DE LIVRAISON\\n\\nN° VF 23/0805 Nom Client: BIWARE\\nAdresse: — RUE DU LAC HURON\\n\\nN° doc. Ext.\\n\\nCommande Clien\\n\\nCode Client CSC28006\\nN° BC: R.C:\\n\\nMat. Fiscal: 1179844/F/A/M/000 Date 16. mai 2023\\n\\nPaiement :\\n\\n| Réf — [ Désignaton — | até [ Procunit. [Rem.] Montant |Tva|\\n\\nC13T00S14A EPSON Bouteille D'encre ECOTANK 103 - Noir\\nC13T00S24A EPSON Bouteille D'encre ECOTANK 103 - Cyan\\nCT3TOOS34A EPSON Bouteille D'éncre ECOTANK 103 - Magenta\\nC13T00S44A EPSON Bouteille D'encre ECOTANK 103 -Jaune\\n\\nu 21757\\n\\nMontant TVA\\n114,286 21,714\\n\\nArrêtée la présente facture à la somme de\\nCent trente Sept Dinars\\n\\n— =u0 A sA\\n\\nTotal H. Taxes TND\\n\\n000\\n714\\n\\n114,286\\n\\nTotal TVA\\n\\nTimbre Fiscal | 1000\\n137.600\\n\\nJ'accepte par la présente de recevoir des SMS publicitaires de la part de l'enseigne dans le cadre de ses opérations promotionnelles.\\np O\\nScoop Informatique enseigne commerciale de Retail Market Concept- SARL au capital de 70 000 Dinars.lm A16 Centre urbain nord 1004 Tunis\\n\\nR.C : 0887498S Code T.V.A. : 887498 S A M 000 Banque : ATB Charguia N° Compte : 01013054110300246686\\n\""
      ]
     },
     "execution_count": 26,
     "metadata": {},
     "output_type": "execute_result"
    }
   ],
   "source": [
    "text"
   ]
  },
  {
   "cell_type": "code",
   "execution_count": 27,
   "id": "5c7125e2-5687-4c24-b158-98df2dd620ac",
   "metadata": {
    "collapsed": true,
    "jupyter": {
     "outputs_hidden": true,
     "source_hidden": true
    }
   },
   "outputs": [
    {
     "name": "stdout",
     "output_type": "stream",
     "text": [
      "d É CT -.,.. 1003 CITE EL KHADRA\n",
      "F\n",
      "\n",
      "E N° téléphone 71750850\n",
      "N° télécopie 71766545\n",
      "\n",
      "& ; - IMM A16 Centre Urbain Nord 1003 Tunis\n",
      "\n",
      "SARL Au capital social de 1.270.000 DT FACTURE/ BON DE LIVRAISON\n",
      "\n",
      "N° VF 23/0805 Nom Client: BIWARE\n",
      "Adresse: — RUE DU LAC HURON\n",
      "\n",
      "N° doc. Ext.\n",
      "\n",
      "Commande Clien\n",
      "\n",
      "Code Client CSC28006\n",
      "N° BC: R.C:\n",
      "\n",
      "Mat. Fiscal: 1179844/F/A/M/000 Date 16. mai 2023\n",
      "\n",
      "Paiement :\n",
      "\n",
      "| Réf — [ Désignaton — | até [ Procunit. [Rem.] Montant |Tva|\n",
      "\n",
      "C13T00S14A EPSON Bouteille D'encre ECOTANK 103 - Noir\n",
      "C13T00S24A EPSON Bouteille D'encre ECOTANK 103 - Cyan\n",
      "CT3TOOS34A EPSON Bouteille D'éncre ECOTANK 103 - Magenta\n",
      "C13T00S44A EPSON Bouteille D'encre ECOTANK 103 -Jaune\n",
      "\n",
      "u 21757\n",
      "\n",
      "Montant TVA\n",
      "114,286 21,714\n",
      "\n",
      "Arrêtée la présente facture à la somme de\n",
      "Cent trente Sept Dinars\n",
      "\n",
      "— =u0 A sA\n",
      "\n",
      "Total H. Taxes TND\n",
      "\n",
      "000\n",
      "714\n",
      "\n",
      "114,286\n",
      "\n",
      "Total TVA\n",
      "\n",
      "Timbre Fiscal | 1000\n",
      "137.600\n",
      "\n",
      "J'accepte par la présente de recevoir des SMS publicitaires de la part de l'enseigne dans le cadre de ses opérations promotionnelles.\n",
      "p O\n",
      "Scoop Informatique enseigne commerciale de Retail Market Concept- SARL au capital de 70 000 Dinars.lm A16 Centre urbain nord 1004 Tunis\n",
      "\n",
      "R.C : 0887498S Code T.V.A. : 887498 S A M 000 Banque : ATB Charguia N° Compte : 01013054110300246686\n",
      "\n"
     ]
    }
   ],
   "source": [
    "for line in text.split(\"\\n\"):\n",
    "    print(line)"
   ]
  },
  {
   "cell_type": "code",
   "execution_count": 28,
   "id": "3bb0f95f-b6c0-4458-8ab7-c0eaefab1963",
   "metadata": {
    "collapsed": true,
    "jupyter": {
     "outputs_hidden": true,
     "source_hidden": true
    }
   },
   "outputs": [
    {
     "name": "stdout",
     "output_type": "stream",
     "text": [
      "📄 Traitement page 1\n",
      "🧾 Résultat OCR page 1 :\n",
      "E\n",
      "\n",
      "srapn\n",
      "\n",
      "SARL Au capita! sociai de 4.27:\n",
      "\n",
      "N VF 2306\n",
      "Code C'ert 1ESIZE 206\n",
      "R- =.\n",
      "| ADAP-DISPLAY. ADAPTATEUR DISPLAY PORT M TO VGAF i Z j SCIIO émiimi18c. j\n",
      "MIC-S765 ADVANCE CASQUE MICRO PC 5 27.900 135.069| 19 7\n",
      "CLS-7100RF ADVANCE ELITE COMBO PACK CLAV+SOUR+TAPIS 5 48,000 240,000! 7 %\n",
      "CZ102AE Cartou\n",
      "✅ OCR terminé. Résultat sauvegardé dans 'facture_ocr_result.txt'\n"
     ]
    }
   ],
   "source": [
    "pdf_path = r\"C:\\Users\\User\\OneDrive - Université Centrale\\Bureau\\facture\\ScoopFacture_N_VF23_0657_12-04-2023.pdf\"\n",
    "poppler_path = r\"C:\\poppler-24.08.0\\Library\\bin\"\n",
    "pytesseract.pytesseract.tesseract_cmd = r\"C:\\Program Files\\Tesseract-OCR\\tesseract.exe\"\n",
    "\n",
    "# 🔄 Convertir le PDF en pages images (PIL)\n",
    "pages = convert_from_path(pdf_path, dpi=300, poppler_path=poppler_path)\n",
    "\n",
    "# 🔍 OCR de chaque page avec filtre Otsu\n",
    "full_text = \"\"\n",
    "for i, page in enumerate(pages):\n",
    "    print(f\"📄 Traitement page {i+1}\")\n",
    "\n",
    "    # Convertir PIL → OpenCV (en niveaux de gris)\n",
    "    gray = np.array(page.convert('L'))\n",
    "\n",
    "    # 🧠 Filtrage Otsu (binarisation automatique)\n",
    "    _, binary = cv2.threshold(gray, 0, 255, cv2.THRESH_BINARY + cv2.THRESH_OTSU)\n",
    "\n",
    "    # OCR sur image binaire\n",
    "    processed_image = Image.fromarray(binary)\n",
    "    text = pytesseract.image_to_string(processed_image, lang='fra')\n",
    "    \n",
    "    print(f\"🧾 Résultat OCR page {i+1} :\\n{text[:300]}\")\n",
    "    full_text += f\"\\n\\n===== Page {i+1} =====\\n{text}\"\n",
    "\n",
    "# (optionnel) Sauvegarder le texte complet dans un fichier texte\n",
    "with open(\"facture_ocr_result.txt\", \"w\", encoding=\"utf-8\") as f:\n",
    "    f.write(full_text)\n",
    "\n",
    "print(\"✅ OCR terminé. Résultat sauvegardé dans 'facture_ocr_result.txt'\")"
   ]
  },
  {
   "cell_type": "code",
   "execution_count": 29,
   "id": "0fe233c8-f109-48ae-a28c-08488a0917f4",
   "metadata": {
    "collapsed": true,
    "jupyter": {
     "outputs_hidden": true,
     "source_hidden": true
    },
    "scrolled": true
   },
   "outputs": [
    {
     "data": {
      "text/plain": [
       "'E\\n\\nsrapn\\n\\nSARL Au capita! sociai de 4.27:\\n\\nN VF 2306\\nCode C\\'ert 1ESIZE 206\\nR- =.\\n| ADAP-DISPLAY. ADAPTATEUR DISPLAY PORT M TO VGAF i Z j SCIIO émiimi18c. j\\nMIC-S765 ADVANCE CASQUE MICRO PC 5 27.900 135.069| 19 7\\nCLS-7100RF ADVANCE ELITE COMBO PACK CLAV+SOUR+TAPIS 5 48,000 240,000! 7 %\\nCZ102AE Cartouche HP COULEUR N°650 pour 2515-1050 1 55,000 55,0001 19 %\\n200 pages\\nSOL*54S-BG13 [ASUS ECRAN VA24DQ BK\\'SMSf\\'EU\\'DSUB+HDMI+DP+ 3 489.090 1467.000| 7 %\\nÏ SN.NELMQS132036 \" GARANTIE ‘ | Ï C%\\n| sN. \\\\5*..*.1Q$:32::1*‘N\"—…\\\\‘Œ AN | G=\\nl ISN NELMOST3204ITGARANTIE TANT g : Ï lc\\n! ! Î\\nj | ;\\nI\\n| ë |\\nî\\nj\\n£ i\\ni\\nÏ\\n\\nmn e - L E A —- 3F = e uw\\nMonzant avance : I T00 ; $ = Tez H exes HZ HE +\\n—— _\\n\\nT T- 5 =— =-s -—> mt\\n\\nMer. MS SE TECOTE = S\\n! —- pERE  Ere e  EESE\\n# # 2S se\\n\\n; ; ; t\\n\\n—\\n\\n210,084\\n1 595,327\\n\\n‘î‘a,673\\n\\nArrêtée la présente facture à la somme de\\nMille Neuf Cent Cinquante Huit Dinars À\\n\\nJ\\'accepte par la présente de recevoir des SMS publicitaires de :a car: de l\\'enseigne dans le cadre de ses opérations promotionnelles.\\n\\n'"
      ]
     },
     "execution_count": 29,
     "metadata": {},
     "output_type": "execute_result"
    }
   ],
   "source": [
    "text"
   ]
  },
  {
   "cell_type": "code",
   "execution_count": 30,
   "id": "6bcdb7d0-759b-4882-97d2-bb1e10a58d0a",
   "metadata": {
    "collapsed": true,
    "jupyter": {
     "outputs_hidden": true,
     "source_hidden": true
    }
   },
   "outputs": [
    {
     "name": "stdout",
     "output_type": "stream",
     "text": [
      "E\n",
      "\n",
      "srapn\n",
      "\n",
      "SARL Au capita! sociai de 4.27:\n",
      "\n",
      "N VF 2306\n",
      "Code C'ert 1ESIZE 206\n",
      "R- =.\n",
      "| ADAP-DISPLAY. ADAPTATEUR DISPLAY PORT M TO VGAF i Z j SCIIO émiimi18c. j\n",
      "MIC-S765 ADVANCE CASQUE MICRO PC 5 27.900 135.069| 19 7\n",
      "CLS-7100RF ADVANCE ELITE COMBO PACK CLAV+SOUR+TAPIS 5 48,000 240,000! 7 %\n",
      "CZ102AE Cartouche HP COULEUR N°650 pour 2515-1050 1 55,000 55,0001 19 %\n",
      "200 pages\n",
      "SOL*54S-BG13 [ASUS ECRAN VA24DQ BK'SMSf'EU'DSUB+HDMI+DP+ 3 489.090 1467.000| 7 %\n",
      "Ï SN.NELMQS132036 \" GARANTIE ‘ | Ï C%\n",
      "| sN. \\5*..*.1Q$:32::1*‘N\"—…\\‘Œ AN | G=\n",
      "l ISN NELMOST3204ITGARANTIE TANT g : Ï lc\n",
      "! ! Î\n",
      "j | ;\n",
      "I\n",
      "| ë |\n",
      "î\n",
      "j\n",
      "£ i\n",
      "i\n",
      "Ï\n",
      "\n",
      "mn e - L E A —- 3F = e uw\n",
      "Monzant avance : I T00 ; $ = Tez H exes HZ HE +\n",
      "—— _\n",
      "\n",
      "T T- 5 =— =-s -—> mt\n",
      "\n",
      "Mer. MS SE TECOTE = S\n",
      "! —- pERE  Ere e  EESE\n",
      "# # 2S se\n",
      "\n",
      "; ; ; t\n",
      "\n",
      "—\n",
      "\n",
      "210,084\n",
      "1 595,327\n",
      "\n",
      "‘î‘a,673\n",
      "\n",
      "Arrêtée la présente facture à la somme de\n",
      "Mille Neuf Cent Cinquante Huit Dinars À\n",
      "\n",
      "J'accepte par la présente de recevoir des SMS publicitaires de :a car: de l'enseigne dans le cadre de ses opérations promotionnelles.\n",
      "\n",
      "\n"
     ]
    }
   ],
   "source": [
    "for line in text.split(\"\\n\"):\n",
    "    print(line)"
   ]
  },
  {
   "cell_type": "code",
   "execution_count": 31,
   "id": "31fc97dc-cfac-4ad1-850f-22a444e9cfdc",
   "metadata": {},
   "outputs": [
    {
     "name": "stdout",
     "output_type": "stream",
     "text": [
      "📄 Traitement page 1\n",
      "🧾 Résultat OCR page 1 :\n",
      "r Ÿw nn“…M A18 Centre Urbain Nord 1003 Tunis\n",
      "u = 1003 CITE EL KHADRA\n",
      "N° téléphone 71750850\n",
      "N° télécopie 71766545\n",
      "SARL Au capital social de 1.270.000 DT FACTURE/ BON DE LIVRAISON\n",
      "\n",
      "N° VF 23/1737 Nom Client: BIWARE\n",
      "N° doc. Ext. Adresse: _ RUE DU LAC HURON\n",
      "Mat. Fiscal: 1179844/F/A/M/000 Date 9. octobre \n",
      "✅ OCR terminé. Résultat sauvegardé dans 'facture_ocr_result.txt'\n"
     ]
    }
   ],
   "source": [
    "pdf_path = r\"C:\\Users\\User\\OneDrive - Université Centrale\\Bureau\\facture\\ScoopFacture_N_VF_231737_09-10--2023.pdf\"\n",
    "poppler_path = r\"C:\\poppler-24.08.0\\Library\\bin\"\n",
    "pytesseract.pytesseract.tesseract_cmd = r\"C:\\Program Files\\Tesseract-OCR\\tesseract.exe\"\n",
    "\n",
    "# 🔄 Convertir le PDF en pages images (PIL)\n",
    "pages = convert_from_path(pdf_path, dpi=300, poppler_path=poppler_path)\n",
    "\n",
    "# 🔍 OCR de chaque page avec filtre Otsu\n",
    "full_text = \"\"\n",
    "for i, page in enumerate(pages):\n",
    "    print(f\"📄 Traitement page {i+1}\")\n",
    "\n",
    "    # Convertir PIL → OpenCV (en niveaux de gris)\n",
    "    gray = np.array(page.convert('L'))\n",
    "\n",
    "    # 🧠 Filtrage Otsu (binarisation automatique)\n",
    "    _, binary = cv2.threshold(gray, 0, 255, cv2.THRESH_BINARY + cv2.THRESH_OTSU)\n",
    "\n",
    "    # OCR sur image binaire\n",
    "    processed_image = Image.fromarray(binary)\n",
    "    text = pytesseract.image_to_string(processed_image, lang='fra')\n",
    "    \n",
    "    print(f\"🧾 Résultat OCR page {i+1} :\\n{text[:300]}\")\n",
    "    full_text += f\"\\n\\n===== Page {i+1} =====\\n{text}\"\n",
    "\n",
    "# (optionnel) Sauvegarder le texte complet dans un fichier texte\n",
    "with open(\"facture_ocr_result.txt\", \"w\", encoding=\"utf-8\") as f:\n",
    "    f.write(full_text)\n",
    "\n",
    "print(\"✅ OCR terminé. Résultat sauvegardé dans 'facture_ocr_result.txt'\")"
   ]
  },
  {
   "cell_type": "code",
   "execution_count": 32,
   "id": "d5fe77eb-8d99-43d0-a88b-9047e30c73a6",
   "metadata": {},
   "outputs": [
    {
     "data": {
      "text/plain": [
       "'r Ÿw nn“…M A18 Centre Urbain Nord 1003 Tunis\\nu = 1003 CITE EL KHADRA\\nN° téléphone 71750850\\nN° télécopie 71766545\\nSARL Au capital social de 1.270.000 DT FACTURE/ BON DE LIVRAISON\\n\\nN° VF 23/1737 Nom Client: BIWARE\\nN° doc. Ext. Adresse: _ RUE DU LAC HURON\\nMat. Fiscal: 1179844/F/A/M/000 Date 9. octobre 2023\\n\\nCommande Clien\\nCode Client CSC28006\\nN° BC: R.C: Paiement :\\n\\n| R — | Désignaton | é | PrixUnit. [Rem.] _ Montant | Tva |\\n\\n90LM02W5-B033 [ASUS ECRAN VA249HE FULL HD 23.8\"\\nSN:R2LMQS037650**GARANTIE 1AN**\\nSN:R2LMQS037308**GARANTIE 1AN**\\nASUS VZ249HE-W 23,8\" LED Full HD Blanc\\nSN:NALMRS002437**GARANTIE 1AN**\\n\\nHP Imprimante Ink Tank 315 3en1 Couleur\\nSN:CN22L7MOXR**GARANTIE 1AN**\\nLogitech Wireless Mouse M171 Black\\nTP-LINK Adaptateur USB 2.0 vers RJ45\\n\\n90LM02Q4-B016\\n\\nZABO4A\\n\\n910-004424\\nTL-L\\'E200\\n\\n\\\\ [Total H. Taxes TND 1 681,449\\n0,000\\n\\nMontant avance : 0,000\\n\\nBFTAH\\n\\n7\\n\\npar: Ç\\n\\nTotai TVA 135,551\\n\\nTimbre Fiscal 1,000\\n\\n1 818,000\\n\\n148.739\\n1532,710 107.290\\n\\nArrêtée la présente facture à la somme de\\nMille Huit Cent Dix-Huit Dinars\\n\\nJ\\'accepte par la présente de recevoir des SMS publicitaires de la part de l\\'enseigne dans le cadre de ses opérations promotionnelles.\\n\\nScoop Informatique enseigne commerciale de Retail Market Concept- SARL au capital de 70 000 Dinars.im A16 Centre urbain nord 1004 Tunis\\n\\nR.C : 0887498S Code T.V.A. : 887498 S A M 000 Banque : ATB Charguia N° Compte : 01013054110300246686\\n'"
      ]
     },
     "execution_count": 32,
     "metadata": {},
     "output_type": "execute_result"
    }
   ],
   "source": [
    "text\n"
   ]
  },
  {
   "cell_type": "code",
   "execution_count": 33,
   "id": "2988b4e7-ab44-4bc6-81ac-1d90d0b5a322",
   "metadata": {
    "collapsed": true,
    "jupyter": {
     "outputs_hidden": true
    }
   },
   "outputs": [
    {
     "name": "stdout",
     "output_type": "stream",
     "text": [
      "r Ÿw nn“…M A18 Centre Urbain Nord 1003 Tunis\n",
      "u = 1003 CITE EL KHADRA\n",
      "N° téléphone 71750850\n",
      "N° télécopie 71766545\n",
      "SARL Au capital social de 1.270.000 DT FACTURE/ BON DE LIVRAISON\n",
      "\n",
      "N° VF 23/1737 Nom Client: BIWARE\n",
      "N° doc. Ext. Adresse: _ RUE DU LAC HURON\n",
      "Mat. Fiscal: 1179844/F/A/M/000 Date 9. octobre 2023\n",
      "\n",
      "Commande Clien\n",
      "Code Client CSC28006\n",
      "N° BC: R.C: Paiement :\n",
      "\n",
      "| R — | Désignaton | é | PrixUnit. [Rem.] _ Montant | Tva |\n",
      "\n",
      "90LM02W5-B033 [ASUS ECRAN VA249HE FULL HD 23.8\"\n",
      "SN:R2LMQS037650**GARANTIE 1AN**\n",
      "SN:R2LMQS037308**GARANTIE 1AN**\n",
      "ASUS VZ249HE-W 23,8\" LED Full HD Blanc\n",
      "SN:NALMRS002437**GARANTIE 1AN**\n",
      "\n",
      "HP Imprimante Ink Tank 315 3en1 Couleur\n",
      "SN:CN22L7MOXR**GARANTIE 1AN**\n",
      "Logitech Wireless Mouse M171 Black\n",
      "TP-LINK Adaptateur USB 2.0 vers RJ45\n",
      "\n",
      "90LM02Q4-B016\n",
      "\n",
      "ZABO4A\n",
      "\n",
      "910-004424\n",
      "TL-L'E200\n",
      "\n",
      "\\ [Total H. Taxes TND 1 681,449\n",
      "0,000\n",
      "\n",
      "Montant avance : 0,000\n",
      "\n",
      "BFTAH\n",
      "\n",
      "7\n",
      "\n",
      "par: Ç\n",
      "\n",
      "Totai TVA 135,551\n",
      "\n",
      "Timbre Fiscal 1,000\n",
      "\n",
      "1 818,000\n",
      "\n",
      "148.739\n",
      "1532,710 107.290\n",
      "\n",
      "Arrêtée la présente facture à la somme de\n",
      "Mille Huit Cent Dix-Huit Dinars\n",
      "\n",
      "J'accepte par la présente de recevoir des SMS publicitaires de la part de l'enseigne dans le cadre de ses opérations promotionnelles.\n",
      "\n",
      "Scoop Informatique enseigne commerciale de Retail Market Concept- SARL au capital de 70 000 Dinars.im A16 Centre urbain nord 1004 Tunis\n",
      "\n",
      "R.C : 0887498S Code T.V.A. : 887498 S A M 000 Banque : ATB Charguia N° Compte : 01013054110300246686\n",
      "\n"
     ]
    }
   ],
   "source": [
    "for line in text.split(\"\\n\"):\n",
    "    print(line)"
   ]
  },
  {
   "cell_type": "code",
   "execution_count": 37,
   "id": "901eb2d8-caa0-4c49-9a17-fea1a2c1cb47",
   "metadata": {
    "collapsed": true,
    "jupyter": {
     "outputs_hidden": true
    }
   },
   "outputs": [
    {
     "name": "stdout",
     "output_type": "stream",
     "text": [
      "📄 Traitement page 1\n"
     ]
    },
    {
     "data": {
      "image/png": "[encoded data removed]",
      "text/plain": [
       "<Figure size 640x480 with 1 Axes>"
      ]
     },
     "metadata": {},
     "output_type": "display_data"
    },
    {
     "name": "stdout",
     "output_type": "stream",
     "text": [
      "🧾 Résultat OCR page 1 (extrait) :\n",
      "__ # —nnnlMM A16 Centre Urbain Nord 1003 Tunis\n",
      "d _\" @ us 1003 CITE EL KHADRA\n",
      "Æ N° téléphone 71750850\n",
      "N° télécopie 71766545\n",
      "SARL Au capital social de 1.270.000 DT FACTURE/ BON DE LIVRAISON\n",
      "N° VF 23/1162 Nom Client: BIWARE\n",
      "N° doc. Ext. _— Adresse: _ RUE DU LAC HURON\n",
      "Commande Clien ; _\n",
      "Code Client CSC2\n",
      "✅ OCR terminé et sauvegardé.\n"
     ]
    }
   ],
   "source": [
    "import cv2\n",
    "import numpy as np\n",
    "from pdf2image import convert_from_path\n",
    "from PIL import Image\n",
    "import pytesseract\n",
    "import matplotlib.pyplot as plt\n",
    "\n",
    "pdf_path = r\"C:\\Users\\User\\OneDrive - Université Centrale\\Bureau\\facture\\ScoopFacture_N_VF23_1162_21-07-2023.pdf\"\n",
    "poppler_path = r\"C:\\poppler-24.08.0\\Library\\bin\"\n",
    "pytesseract.pytesseract.tesseract_cmd = r\"C:\\Program Files\\Tesseract-OCR\\tesseract.exe\"\n",
    "\n",
    "pages = convert_from_path(pdf_path, dpi=300, poppler_path=poppler_path)\n",
    "\n",
    "full_text = \"\"\n",
    "for i, page in enumerate(pages):\n",
    "    print(f\"📄 Traitement page {i+1}\")\n",
    "\n",
    "    gray = np.array(page.convert('L'))\n",
    "    _, binary = cv2.threshold(gray, 0, 255, cv2.THRESH_BINARY + cv2.THRESH_OTSU)\n",
    "\n",
    "    # Affichage pour inspection\n",
    "    plt.imshow(binary, cmap='gray')\n",
    "    plt.title(f\"Page {i+1} filtrée\")\n",
    "    plt.axis('off')\n",
    "    plt.show()\n",
    "\n",
    "    # Inversion facultative si texte sombre\n",
    "    # binary = cv2.bitwise_not(binary)\n",
    "\n",
    "    processed_image = Image.fromarray(binary)\n",
    "\n",
    "    # Mode segmentation adapté\n",
    "    custom_config = r'--oem 3 --psm 6'\n",
    "    text = pytesseract.image_to_string(processed_image, lang='fra', config=custom_config)\n",
    "    \n",
    "    print(f\"🧾 Résultat OCR page {i+1} (extrait) :\\n{text[:300]}\")\n",
    "    full_text += f\"\\n\\n===== Page {i+1} =====\\n{text}\"\n",
    "\n",
    "# Sauvegarde\n",
    "with open(\"facture_ocr_result.txt\", \"w\", encoding=\"utf-8\") as f:\n",
    "    f.write(full_text)\n",
    "\n",
    "print(\"✅ OCR terminé et sauvegardé.\")\n"
   ]
  },
  {
   "cell_type": "code",
   "execution_count": 38,
   "id": "640fc203-872c-4dfe-9e40-48a3c015a898",
   "metadata": {
    "collapsed": true,
    "jupyter": {
     "outputs_hidden": true
    }
   },
   "outputs": [
    {
     "data": {
      "text/plain": [
       "'__ # —nnnlMM A16 Centre Urbain Nord 1003 Tunis\\nd _\" @ us 1003 CITE EL KHADRA\\nÆ N° téléphone 71750850\\nN° télécopie 71766545\\nSARL Au capital social de 1.270.000 DT FACTURE/ BON DE LIVRAISON\\nN° VF 23/1162 Nom Client: BIWARE\\nN° doc. Ext. _— Adresse: _ RUE DU LAC HURON\\nCommande Clien ; _\\nCode Client CSC28006 Mat. Fiscal: 1179844/F/A/M/000 Date 21. juillet 2023\\nN° BC: R.C: Paiement :\\n| Réf _ | Désignation __ [[ até [ PrixUnit. [Rem.] _ Montant | Tva ]\\nDUB-E130 D-LINK Adaptateur USB-C to RJ45 Gigabit Ethernet 2 100,000 200,000! 19 %\\nMontant avance : 0000 Comfercial —23 î, Total H. Taxes TND 168,067\\nSE S A e Total TVA | 31888\\n- 201,000\\nBaseTVA | TVA | MonartTVA _\\n168,067 31,933\\nArrêtée la présente facture à la somme de\\nDeux Cent Un Dinars\\nJ\\'accepte par la présente de recevoir des SMS publicitaires de la part de l\\'enseigne dans le cadre de ses opérations promotionnelles.\\n—— Q\\nScoop Informatique enseigne commerciale de Retail Market Concept- SARL au capital de 70 000 Dinars.Im A16 Centre urbain nord 1004 Tunis\\nR.C : 7887498S Code T.V.A. : 887498 S A M 000 Banaue : ATB Charouia N° Comnte - 01N172056411NINNIARRRA\\n'"
      ]
     },
     "execution_count": 38,
     "metadata": {},
     "output_type": "execute_result"
    }
   ],
   "source": [
    "text\n"
   ]
  },
  {
   "cell_type": "code",
   "execution_count": 39,
   "id": "e67d644d-cd9b-43bd-a682-78a977230b15",
   "metadata": {
    "collapsed": true,
    "jupyter": {
     "outputs_hidden": true
    }
   },
   "outputs": [
    {
     "name": "stdout",
     "output_type": "stream",
     "text": [
      "__ # —nnnlMM A16 Centre Urbain Nord 1003 Tunis\n",
      "d _\" @ us 1003 CITE EL KHADRA\n",
      "Æ N° téléphone 71750850\n",
      "N° télécopie 71766545\n",
      "SARL Au capital social de 1.270.000 DT FACTURE/ BON DE LIVRAISON\n",
      "N° VF 23/1162 Nom Client: BIWARE\n",
      "N° doc. Ext. _— Adresse: _ RUE DU LAC HURON\n",
      "Commande Clien ; _\n",
      "Code Client CSC28006 Mat. Fiscal: 1179844/F/A/M/000 Date 21. juillet 2023\n",
      "N° BC: R.C: Paiement :\n",
      "| Réf _ | Désignation __ [[ até [ PrixUnit. [Rem.] _ Montant | Tva ]\n",
      "DUB-E130 D-LINK Adaptateur USB-C to RJ45 Gigabit Ethernet 2 100,000 200,000! 19 %\n",
      "Montant avance : 0000 Comfercial —23 î, Total H. Taxes TND 168,067\n",
      "SE S A e Total TVA | 31888\n",
      "- 201,000\n",
      "BaseTVA | TVA | MonartTVA _\n",
      "168,067 31,933\n",
      "Arrêtée la présente facture à la somme de\n",
      "Deux Cent Un Dinars\n",
      "J'accepte par la présente de recevoir des SMS publicitaires de la part de l'enseigne dans le cadre de ses opérations promotionnelles.\n",
      "—— Q\n",
      "Scoop Informatique enseigne commerciale de Retail Market Concept- SARL au capital de 70 000 Dinars.Im A16 Centre urbain nord 1004 Tunis\n",
      "R.C : 7887498S Code T.V.A. : 887498 S A M 000 Banaue : ATB Charouia N° Comnte - 01N172056411NINNIARRRA\n",
      "\n"
     ]
    }
   ],
   "source": [
    "for line in text.split(\"\\n\"):\n",
    "    print(line)"
   ]
  },
  {
   "cell_type": "code",
   "execution_count": 40,
   "id": "3cfbd646-b4f7-4dfc-b9c8-da4906b2a2a3",
   "metadata": {
    "collapsed": true,
    "jupyter": {
     "outputs_hidden": true,
     "source_hidden": true
    }
   },
   "outputs": [
    {
     "name": "stdout",
     "output_type": "stream",
     "text": [
      "📄 Traitement page 1\n"
     ]
    },
    {
     "data": {
      "image/png": "[encoded data removed]",
      "text/plain": [
       "<Figure size 640x480 with 1 Axes>"
      ]
     },
     "metadata": {},
     "output_type": "display_data"
    },
    {
     "name": "stdout",
     "output_type": "stream",
     "text": [
      "🧾 Résultat OCR page 1 (extrait) :\n",
      "= £ -nﬂ“ IMM A16 Centre Urbain Nord 1003 Tunis\n",
      "JP e JF OL 1003 CITE EL KHADRA\n",
      "; Ê;: N° téléphone 71 822 435\n",
      "N° télécopie 71 822 742\n",
      "SARL Au capital social de 1.270.000 DT FACTURE/ BON DE LIVRAISON\n",
      "N° VF 23/0683 Nom Client: BIWARE\n",
      "N° doc. Ext. . Adresse: — RUE DU LAC HURON\n",
      "Commande Clien ; ;\n",
      "Code Cli\n",
      "✅ OCR terminé et sauvegardé.\n"
     ]
    }
   ],
   "source": [
    "import cv2\n",
    "import numpy as np\n",
    "from pdf2image import convert_from_path\n",
    "from PIL import Image\n",
    "import pytesseract\n",
    "import matplotlib.pyplot as plt\n",
    "\n",
    "pdf_path = r\"C:\\Users\\User\\OneDrive - Université Centrale\\Bureau\\facture\\ScoopFacture_N_VF230683_18-04-2023.pdf\"\n",
    "poppler_path = r\"C:\\poppler-24.08.0\\Library\\bin\"\n",
    "pytesseract.pytesseract.tesseract_cmd = r\"C:\\Program Files\\Tesseract-OCR\\tesseract.exe\"\n",
    "\n",
    "pages = convert_from_path(pdf_path, dpi=300, poppler_path=poppler_path)\n",
    "\n",
    "full_text = \"\"\n",
    "for i, page in enumerate(pages):\n",
    "    print(f\"📄 Traitement page {i+1}\")\n",
    "\n",
    "    gray = np.array(page.convert('L'))\n",
    "    _, binary = cv2.threshold(gray, 0, 255, cv2.THRESH_BINARY + cv2.THRESH_OTSU)\n",
    "\n",
    "    # Affichage pour inspection\n",
    "    plt.imshow(binary, cmap='gray')\n",
    "    plt.title(f\"Page {i+1} filtrée\")\n",
    "    plt.axis('off')\n",
    "    plt.show()\n",
    "\n",
    "    # Inversion facultative si texte sombre\n",
    "    # binary = cv2.bitwise_not(binary)\n",
    "\n",
    "    processed_image = Image.fromarray(binary)\n",
    "\n",
    "    # Mode segmentation adapté\n",
    "    custom_config = r'--oem 3 --psm 6'\n",
    "    text = pytesseract.image_to_string(processed_image, lang='fra', config=custom_config)\n",
    "    \n",
    "    print(f\"🧾 Résultat OCR page {i+1} (extrait) :\\n{text[:300]}\")\n",
    "    full_text += f\"\\n\\n===== Page {i+1} =====\\n{text}\"\n",
    "\n",
    "# Sauvegarde\n",
    "with open(\"facture_ocr_result.txt\", \"w\", encoding=\"utf-8\") as f:\n",
    "    f.write(full_text)\n",
    "\n",
    "print(\"✅ OCR terminé et sauvegardé.\")\n"
   ]
  },
  {
   "cell_type": "code",
   "execution_count": 41,
   "id": "c4f23f7c-ff87-481e-87e9-af3ccefc0476",
   "metadata": {
    "collapsed": true,
    "jupyter": {
     "outputs_hidden": true
    }
   },
   "outputs": [
    {
     "data": {
      "text/plain": [
       "'= £ -nﬂ“ IMM A16 Centre Urbain Nord 1003 Tunis\\nJP e JF OL 1003 CITE EL KHADRA\\n; Ê;: N° téléphone 71 822 435\\nN° télécopie 71 822 742\\nSARL Au capital social de 1.270.000 DT FACTURE/ BON DE LIVRAISON\\nN° VF 23/0683 Nom Client: BIWARE\\nN° doc. Ext. . Adresse: — RUE DU LAC HURON\\nCommande Clien ; ;\\nCode Client CSC28006 Mat. Fiscal: 1179844/F/A/M/000 Date 18. avril 2023\\nN° BC: R.C : Paiement :\\n| Rét — | Désignaton __ [[ ats [ Prix Unit. [Rem.| _ Montant | Tva |\\nMIC-S765 ADVANCE CASQUE MICRO PC 5 27,000 135,000} 19 %\\nCLS-7100RF ADVANCE ELITE COMBO PACK CLAV+SOUR+TAPIS 5 48,000 240,000| 7 %\\nCZ102AE Cartouche HP COULEUR N°650 pour 2515-1050 1 55,000 55,000] 19 %\\np 200 pages\\n- 151559 Converstisseur HDMI male TO VGA female with audio 2 66,000 132,000} 19 %\\n90LM054S-B013 JASUS ECRAN VA24DQ BK/5MS/EU/DSUB+HDMI+DP+ 3 489,000 1 467,000| 7 %\\nSN:N6LMQS132036**GARANTIE 1AN** 0%\\nSN:N6LMQS132051**GARANTIE 1AN** 0%\\nSN:N6LMQS132041**GARANTIE 1AN** 0%\\nTotai H. Taxes TND 1 865,915\\nLa présentation de cette facture est obligatoire pour tout échange ou —\\nréparation sous garantie Remise Facture 0,000\\nTotal TVA 163,085\\n— — Lag, \"ntie couvre uniquement les défauts de fabrication Hardware. m\\n; Toute panne Software ou réinstallation système feront l\\'objet d\\'une T\\'\"‘Ë\"”° Fiscal\\nréparation facturable. 2 030,000\\nMontant TVA\\n270.588 51.412\\n1595,327 111,673\\n‘.‘\\nn >\\nRETAIL Datercis]\\n%EIGNE; Scogp / £I 5\\n\\\\ Tfrey , k\\nSS e . \\\\\\'nn3 p,_;£”\\nP \\'q : /\\n\\\\\\\\_,C\\nPoints Fidélité Montant 2 030,000\\nSolde antérieur 0,00ÿ Acompte 0,000\\nConsommation facture 0,000 A\\nRajout facture 0.000 Montant payé 0,000\\nSolde à nouveau 0,000 Montant rendu 0,000\\nSolde 2 030,000\\nArrêtée la présente facture à la somme de\\nDeux Mille Trente Dinars\\nJ\\'accepie par la présente de recevoir des SMS publicitaires de la part de l\\'enseigne dans le cadre de ses opérations promotionnelles.\\n——s E\\nScoop Informatique enseigne commerciale de Retail Market Concept- SARL au capital de 70 000 Dinars.Im A16 Centre urbain nord 1004 Tunis\\nR.C : 0887498S Code T.V.A. : 887498 S A M 000 Banque : ATB Charguia N° Compte : 01013054110300246686\\n'"
      ]
     },
     "execution_count": 41,
     "metadata": {},
     "output_type": "execute_result"
    }
   ],
   "source": [
    "text\n"
   ]
  },
  {
   "cell_type": "code",
   "execution_count": 42,
   "id": "31e9d837-ac5a-405f-92aa-4f8b7b55d551",
   "metadata": {
    "collapsed": true,
    "jupyter": {
     "outputs_hidden": true
    }
   },
   "outputs": [
    {
     "name": "stdout",
     "output_type": "stream",
     "text": [
      "= £ -nﬂ“ IMM A16 Centre Urbain Nord 1003 Tunis\n",
      "JP e JF OL 1003 CITE EL KHADRA\n",
      "; Ê;: N° téléphone 71 822 435\n",
      "N° télécopie 71 822 742\n",
      "SARL Au capital social de 1.270.000 DT FACTURE/ BON DE LIVRAISON\n",
      "N° VF 23/0683 Nom Client: BIWARE\n",
      "N° doc. Ext. . Adresse: — RUE DU LAC HURON\n",
      "Commande Clien ; ;\n",
      "Code Client CSC28006 Mat. Fiscal: 1179844/F/A/M/000 Date 18. avril 2023\n",
      "N° BC: R.C : Paiement :\n",
      "| Rét — | Désignaton __ [[ ats [ Prix Unit. [Rem.| _ Montant | Tva |\n",
      "MIC-S765 ADVANCE CASQUE MICRO PC 5 27,000 135,000} 19 %\n",
      "CLS-7100RF ADVANCE ELITE COMBO PACK CLAV+SOUR+TAPIS 5 48,000 240,000| 7 %\n",
      "CZ102AE Cartouche HP COULEUR N°650 pour 2515-1050 1 55,000 55,000] 19 %\n",
      "p 200 pages\n",
      "- 151559 Converstisseur HDMI male TO VGA female with audio 2 66,000 132,000} 19 %\n",
      "90LM054S-B013 JASUS ECRAN VA24DQ BK/5MS/EU/DSUB+HDMI+DP+ 3 489,000 1 467,000| 7 %\n",
      "SN:N6LMQS132036**GARANTIE 1AN** 0%\n",
      "SN:N6LMQS132051**GARANTIE 1AN** 0%\n",
      "SN:N6LMQS132041**GARANTIE 1AN** 0%\n",
      "Totai H. Taxes TND 1 865,915\n",
      "La présentation de cette facture est obligatoire pour tout échange ou —\n",
      "réparation sous garantie Remise Facture 0,000\n",
      "Total TVA 163,085\n",
      "— — Lag, \"ntie couvre uniquement les défauts de fabrication Hardware. m\n",
      "; Toute panne Software ou réinstallation système feront l'objet d'une T'\"‘Ë\"”° Fiscal\n",
      "réparation facturable. 2 030,000\n",
      "Montant TVA\n",
      "270.588 51.412\n",
      "1595,327 111,673\n",
      "‘.‘\n",
      "n >\n",
      "RETAIL Datercis]\n",
      "%EIGNE; Scogp / £I 5\n",
      "\\ Tfrey , k\n",
      "SS e . \\'nn3 p,_;£”\n",
      "P 'q : /\n",
      "\\\\_,C\n",
      "Points Fidélité Montant 2 030,000\n",
      "Solde antérieur 0,00ÿ Acompte 0,000\n",
      "Consommation facture 0,000 A\n",
      "Rajout facture 0.000 Montant payé 0,000\n",
      "Solde à nouveau 0,000 Montant rendu 0,000\n",
      "Solde 2 030,000\n",
      "Arrêtée la présente facture à la somme de\n",
      "Deux Mille Trente Dinars\n",
      "J'accepie par la présente de recevoir des SMS publicitaires de la part de l'enseigne dans le cadre de ses opérations promotionnelles.\n",
      "——s E\n",
      "Scoop Informatique enseigne commerciale de Retail Market Concept- SARL au capital de 70 000 Dinars.Im A16 Centre urbain nord 1004 Tunis\n",
      "R.C : 0887498S Code T.V.A. : 887498 S A M 000 Banque : ATB Charguia N° Compte : 01013054110300246686\n",
      "\n"
     ]
    }
   ],
   "source": [
    "for line in text.split(\"\\n\"):\n",
    "    print(line)"
   ]
  },
  {
   "cell_type": "code",
   "execution_count": 44,
   "id": "3ffc6e64-d5a2-450b-9621-f23c098cc446",
   "metadata": {
    "collapsed": true,
    "jupyter": {
     "outputs_hidden": true,
     "source_hidden": true
    },
    "scrolled": true
   },
   "outputs": [
    {
     "data": {
      "text/plain": [
       "'+\\nr ; nﬂ\"lMM A16 Centre Urbain Nord 1003 Tunis\\nJS É P UF 1003 CITE EL KHADRA\\n; ÿh N° téléphone 71750850\\nN° télécopie 71766545\\nSARL Au capital social de 1.270.000 DT FACTURE/ BON DE LIVRAISON\\nN° VF 23/0805 Nom Client: BIWARE\\nN° doc. Ext. _— Adresse: _ RUE DU LAC HURON\\nCommande Clien j ;\\nCode Client CSC28006 Mat. Fiscal: 1179844/F/A/M/000 Date 16. mai 2023\\nN° BC: R.C: Paiement :\\n| Réf. | Désignation __ [[ @té T Pricunie. [Rem.] — Montant | Tva |\\nC13T00S14A EPSON Bouteille D\\'encre ECOTANK 103 - Noir 1 34,000 34,000$ 19 %\\nC13T00S24A EPSON Bouteille D\\'encre ECOTANK 103 - Cyan 1 34,000 34,000} 19 %\\nCT3TOOS34A EPSON Bouteille D\\'éncre ECOTANK 103 - Magenta 1 34,000 34,000] 19 %\\n— C13T00S44A EPSON Bouteille D\\'encre ECOTANK 103 -Jaune 1 34,000 34,000| 19 %\\nMontant avañnce : 0000 Œ‘ .‘ eT Total H. Taxes TND 114,286\\npar: Ç C RERRÉ T CON u| 0,000\\nRET \"‘«“: \\\\= FBRTE \" 1ar Tonis | Total TVA 21,714\\n\\\\ NE : 5C00 - - gai\\n\\\\ eNSEIO qa rrs* 5747 84 ï ”\\n\\\\ b RE 22 OROT Timbre Fiscal\\nL — 137,000\\nMontant TVA\\n114,286 21,714\\nArrêtée la présente facture à la somme de\\nCent trente Sept Dinars\\nJ\\'accepte par la présente de recevoir des SMS publicitaires de la part de l\\'enseigne dans le cadre de ses opérations promotionnelles.\\nL A\\nScoop Informatique enseigne commerciale de Retail Market Concept- SARL au capital de 70 000 Dinars.lm A16 Centre urbain nord 1004 Tunis\\nR.C : 0887498S Code T.V.A. : 887498 S A M 000 Banque : ATB Charguia N° Compte : 01013054110300246686\\n'"
      ]
     },
     "execution_count": 44,
     "metadata": {},
     "output_type": "execute_result"
    }
   ],
   "source": [
    "text"
   ]
  },
  {
   "cell_type": "code",
   "execution_count": null,
   "id": "a842f009-7a35-4579-a93b-da9cffbc09d5",
   "metadata": {},
   "outputs": [],
   "source": []
  },
  {
   "cell_type": "code",
   "execution_count": null,
   "id": "07995f8d-0673-4854-880e-4f0bf4084a02",
   "metadata": {},
   "outputs": [],
   "source": []
  },
  {
   "cell_type": "code",
   "execution_count": null,
   "id": "ffdfcc24-0c29-4b90-88bf-df60eaf8d7d6",
   "metadata": {},
   "outputs": [],
   "source": []
  },
  {
   "cell_type": "code",
   "execution_count": 18,
   "id": "cd6de93d-fdff-4b69-bed7-1c57ef36bf27",
   "metadata": {},
   "outputs": [
    {
     "name": "stdout",
     "output_type": "stream",
     "text": [
      "\n",
      "🚀 Traitement de : 01-_F21103099.pdf\n",
      "  📄 Page 1\n",
      "  📄 Page 2\n",
      "\n",
      "🚀 Traitement de : 03-_NH_157-09-2021.pdf\n",
      "  📄 Page 1\n",
      "\n",
      "🚀 Traitement de : BIWARE_SOL_HONO_2021_KAABACHI_B_N39.PDF\n",
      "  📄 Page 1\n",
      "\n",
      "🚀 Traitement de : Facture_Debours_7-2021.pdf\n",
      "  📄 Page 1\n",
      "  📄 Page 2\n",
      "\n",
      "🚀 Traitement de : ScoopFacture_N_VF230683_18-04-2023.pdf\n",
      "  📄 Page 1\n",
      "\n",
      "🚀 Traitement de : ScoopFacture_N_VF230805_16-05-2023.pdf\n",
      "  📄 Page 1\n",
      "\n",
      "🚀 Traitement de : ScoopFacture_N_VF23_0657_12-04-2023.pdf\n",
      "  📄 Page 1\n",
      "\n",
      "🚀 Traitement de : ScoopFacture_N_VF23_1162_21-07-2023.pdf\n",
      "  📄 Page 1\n",
      "\n",
      "🚀 Traitement de : ScoopFacture_N_VF_231737_09-10--2023.pdf\n",
      "  📄 Page 1\n",
      "\n",
      "🚀 Traitement de : Scoop_Facture_N_VF23_2212.pdf\n",
      "  📄 Page 1\n",
      "\n",
      "✅ OCR terminé pour tous les fichiers. Résultat sauvegardé dans : factures_ocr_result2.txt\n"
     ]
    }
   ],
   "source": [
    "import os\n",
    "import cv2\n",
    "import numpy as np\n",
    "from pdf2image import convert_from_path\n",
    "from PIL import Image\n",
    "import pytesseract\n",
    "import matplotlib.pyplot as plt\n",
    "\n",
    "# 📁 Répertoire contenant les fichiers PDF\n",
    "pdf_dir = r\"C:\\Users\\User\\OneDrive - Université Centrale\\Bureau\\facture\"\n",
    "poppler_path = r\"C:\\poppler-24.08.0\\Library\\bin\"\n",
    "pytesseract.pytesseract.tesseract_cmd = r\"C:\\Program Files\\Tesseract-OCR\\tesseract.exe\"\n",
    "\n",
    "# 📄 Initialiser contenu final\n",
    "full_text = \"\"\n",
    "\n",
    "# 🔁 Parcourir tous les fichiers PDF du dossier\n",
    "for filename in os.listdir(pdf_dir):\n",
    "    if filename.lower().endswith(\".pdf\"):\n",
    "        pdf_path = os.path.join(pdf_dir, filename)\n",
    "        print(f\"\\n🚀 Traitement de : {filename}\")\n",
    "        \n",
    "        try:\n",
    "            pages = convert_from_path(pdf_path, dpi=300, poppler_path=poppler_path)\n",
    "            for i, page in enumerate(pages):\n",
    "                print(f\"  📄 Page {i+1}\")\n",
    "\n",
    "                # 🔄 Prétraitement image\n",
    "                gray = np.array(page.convert('L'))\n",
    "                _, binary = cv2.threshold(gray, 0, 255, cv2.THRESH_BINARY + cv2.THRESH_OTSU)\n",
    "\n",
    "                # Affichage facultatif\n",
    "                # plt.imshow(binary, cmap='gray')\n",
    "                # plt.title(f\"{filename} - Page {i+1}\")\n",
    "                # plt.axis('off')\n",
    "                # plt.show()\n",
    "\n",
    "                processed_image = Image.fromarray(binary)\n",
    "                custom_config = r'--oem 3 --psm 6'\n",
    "                text = pytesseract.image_to_string(processed_image, lang='fra', config=custom_config)\n",
    "\n",
    "                # Ajouter au texte total avec nom de fichier\n",
    "                full_text += f\"\\n\\n===== {filename} - Page {i+1} =====\\n{text}\"\n",
    "\n",
    "        except Exception as e:\n",
    "            print(f\"❌ Erreur lors du traitement de {filename} : {e}\")\n",
    "\n",
    "# 💾 Sauvegarder le résultat final\n",
    "output_file = \"factures_ocr_result2.txt\"\n",
    "with open(output_file, \"w\", encoding=\"utf-8\") as f:\n",
    "    f.write(full_text)\n",
    "\n",
    "print(f\"\\n✅ OCR terminé pour tous les fichiers. Résultat sauvegardé dans : {output_file}\")\n"
   ]
  },
  {
   "cell_type": "code",
   "execution_count": null,
   "id": "55a40fb1-59da-42b5-a661-7dd68c306947",
   "metadata": {},
   "outputs": [],
   "source": []
  }
 ],
 "metadata": {
  "kernelspec": {
   "display_name": "Python [conda env:base] *",
   "language": "python",
   "name": "conda-base-py"
  },
  "language_info": {
   "codemirror_mode": {
    "name": "ipython",
    "version": 3
   },
   "file_extension": ".py",
   "mimetype": "text/x-python",
   "name": "python",
   "nbconvert_exporter": "python",
   "pygments_lexer": "ipython3",
   "version": "3.12.7"
  }
 },
 "nbformat": 4,
 "nbformat_minor": 5
}
